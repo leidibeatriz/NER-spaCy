{
  "nbformat": 4,
  "nbformat_minor": 0,
  "metadata": {
    "colab": {
      "provenance": []
    },
    "kernelspec": {
      "name": "python3",
      "display_name": "Python 3"
    },
    "language_info": {
      "name": "python"
    }
  },
  "cells": [
    {
      "cell_type": "markdown",
      "source": [
        "# Configurando o ambiente com o framework spaCy"
      ],
      "metadata": {
        "id": "DAOiFH2SLuGW"
      }
    },
    {
      "cell_type": "code",
      "execution_count": 1,
      "metadata": {
        "id": "eSxQDiv8ebOJ",
        "colab": {
          "base_uri": "https://localhost:8080/"
        },
        "outputId": "e14b1ade-75b6-476c-e854-0ae57ba5f879"
      },
      "outputs": [
        {
          "output_type": "stream",
          "name": "stderr",
          "text": [
            "/usr/local/lib/python3.8/dist-packages/torch/cuda/__init__.py:497: UserWarning: Can't initialize NVML\n",
            "  warnings.warn(\"Can't initialize NVML\")\n"
          ]
        }
      ],
      "source": [
        "#load spacy\n",
        "import spacy"
      ]
    },
    {
      "cell_type": "code",
      "source": [
        "# Carrega o modelo pt_core_news_lg em Portugês do Spacy\n",
        "!python -m spacy download pt_core_news_lg\n",
        "import pt_core_news_lg\n",
        "nlp = pt_core_news_lg.load()\n",
        "texto = nlp(\"Maria fez compras no dia 25/12/2022 em Brasília.\")"
      ],
      "metadata": {
        "colab": {
          "base_uri": "https://localhost:8080/"
        },
        "id": "IZvt7KOMe4U6",
        "outputId": "44926b2e-0b50-45d9-c07a-236252f4deb7"
      },
      "execution_count": 2,
      "outputs": [
        {
          "output_type": "stream",
          "name": "stdout",
          "text": [
            "/usr/local/lib/python3.8/dist-packages/torch/cuda/__init__.py:497: UserWarning: Can't initialize NVML\n",
            "  warnings.warn(\"Can't initialize NVML\")\n",
            "2023-02-06 18:15:06.713254: E tensorflow/stream_executor/cuda/cuda_driver.cc:271] failed call to cuInit: CUDA_ERROR_NO_DEVICE: no CUDA-capable device is detected\n",
            "Looking in indexes: https://pypi.org/simple, https://us-python.pkg.dev/colab-wheels/public/simple/\n",
            "Collecting pt-core-news-lg==3.4.0\n",
            "  Downloading https://github.com/explosion/spacy-models/releases/download/pt_core_news_lg-3.4.0/pt_core_news_lg-3.4.0-py3-none-any.whl (568.2 MB)\n",
            "\u001b[2K     \u001b[90m━━━━━━━━━━━━━━━━━━━━━━━━━━━━━━━━━━━━━━━\u001b[0m \u001b[32m568.2/568.2 MB\u001b[0m \u001b[31m2.2 MB/s\u001b[0m eta \u001b[36m0:00:00\u001b[0m\n",
            "\u001b[?25hRequirement already satisfied: spacy<3.5.0,>=3.4.0 in /usr/local/lib/python3.8/dist-packages (from pt-core-news-lg==3.4.0) (3.4.4)\n",
            "Requirement already satisfied: murmurhash<1.1.0,>=0.28.0 in /usr/local/lib/python3.8/dist-packages (from spacy<3.5.0,>=3.4.0->pt-core-news-lg==3.4.0) (1.0.9)\n",
            "Requirement already satisfied: pathy>=0.3.5 in /usr/local/lib/python3.8/dist-packages (from spacy<3.5.0,>=3.4.0->pt-core-news-lg==3.4.0) (0.10.1)\n",
            "Requirement already satisfied: pydantic!=1.8,!=1.8.1,<1.11.0,>=1.7.4 in /usr/local/lib/python3.8/dist-packages (from spacy<3.5.0,>=3.4.0->pt-core-news-lg==3.4.0) (1.10.4)\n",
            "Requirement already satisfied: requests<3.0.0,>=2.13.0 in /usr/local/lib/python3.8/dist-packages (from spacy<3.5.0,>=3.4.0->pt-core-news-lg==3.4.0) (2.25.1)\n",
            "Requirement already satisfied: spacy-legacy<3.1.0,>=3.0.10 in /usr/local/lib/python3.8/dist-packages (from spacy<3.5.0,>=3.4.0->pt-core-news-lg==3.4.0) (3.0.12)\n",
            "Requirement already satisfied: catalogue<2.1.0,>=2.0.6 in /usr/local/lib/python3.8/dist-packages (from spacy<3.5.0,>=3.4.0->pt-core-news-lg==3.4.0) (2.0.8)\n",
            "Requirement already satisfied: tqdm<5.0.0,>=4.38.0 in /usr/local/lib/python3.8/dist-packages (from spacy<3.5.0,>=3.4.0->pt-core-news-lg==3.4.0) (4.64.1)\n",
            "Requirement already satisfied: thinc<8.2.0,>=8.1.0 in /usr/local/lib/python3.8/dist-packages (from spacy<3.5.0,>=3.4.0->pt-core-news-lg==3.4.0) (8.1.7)\n",
            "Requirement already satisfied: langcodes<4.0.0,>=3.2.0 in /usr/local/lib/python3.8/dist-packages (from spacy<3.5.0,>=3.4.0->pt-core-news-lg==3.4.0) (3.3.0)\n",
            "Requirement already satisfied: spacy-loggers<2.0.0,>=1.0.0 in /usr/local/lib/python3.8/dist-packages (from spacy<3.5.0,>=3.4.0->pt-core-news-lg==3.4.0) (1.0.4)\n",
            "Requirement already satisfied: srsly<3.0.0,>=2.4.3 in /usr/local/lib/python3.8/dist-packages (from spacy<3.5.0,>=3.4.0->pt-core-news-lg==3.4.0) (2.4.5)\n",
            "Requirement already satisfied: wasabi<1.1.0,>=0.9.1 in /usr/local/lib/python3.8/dist-packages (from spacy<3.5.0,>=3.4.0->pt-core-news-lg==3.4.0) (0.10.1)\n",
            "Requirement already satisfied: smart-open<7.0.0,>=5.2.1 in /usr/local/lib/python3.8/dist-packages (from spacy<3.5.0,>=3.4.0->pt-core-news-lg==3.4.0) (6.3.0)\n",
            "Requirement already satisfied: jinja2 in /usr/local/lib/python3.8/dist-packages (from spacy<3.5.0,>=3.4.0->pt-core-news-lg==3.4.0) (2.11.3)\n",
            "Requirement already satisfied: typer<0.8.0,>=0.3.0 in /usr/local/lib/python3.8/dist-packages (from spacy<3.5.0,>=3.4.0->pt-core-news-lg==3.4.0) (0.7.0)\n",
            "Requirement already satisfied: packaging>=20.0 in /usr/local/lib/python3.8/dist-packages (from spacy<3.5.0,>=3.4.0->pt-core-news-lg==3.4.0) (23.0)\n",
            "Requirement already satisfied: cymem<2.1.0,>=2.0.2 in /usr/local/lib/python3.8/dist-packages (from spacy<3.5.0,>=3.4.0->pt-core-news-lg==3.4.0) (2.0.7)\n",
            "Requirement already satisfied: setuptools in /usr/local/lib/python3.8/dist-packages (from spacy<3.5.0,>=3.4.0->pt-core-news-lg==3.4.0) (57.4.0)\n",
            "Requirement already satisfied: numpy>=1.15.0 in /usr/local/lib/python3.8/dist-packages (from spacy<3.5.0,>=3.4.0->pt-core-news-lg==3.4.0) (1.21.6)\n",
            "Requirement already satisfied: preshed<3.1.0,>=3.0.2 in /usr/local/lib/python3.8/dist-packages (from spacy<3.5.0,>=3.4.0->pt-core-news-lg==3.4.0) (3.0.8)\n",
            "Requirement already satisfied: typing-extensions>=4.2.0 in /usr/local/lib/python3.8/dist-packages (from pydantic!=1.8,!=1.8.1,<1.11.0,>=1.7.4->spacy<3.5.0,>=3.4.0->pt-core-news-lg==3.4.0) (4.4.0)\n",
            "Requirement already satisfied: idna<3,>=2.5 in /usr/local/lib/python3.8/dist-packages (from requests<3.0.0,>=2.13.0->spacy<3.5.0,>=3.4.0->pt-core-news-lg==3.4.0) (2.10)\n",
            "Requirement already satisfied: chardet<5,>=3.0.2 in /usr/local/lib/python3.8/dist-packages (from requests<3.0.0,>=2.13.0->spacy<3.5.0,>=3.4.0->pt-core-news-lg==3.4.0) (4.0.0)\n",
            "Requirement already satisfied: certifi>=2017.4.17 in /usr/local/lib/python3.8/dist-packages (from requests<3.0.0,>=2.13.0->spacy<3.5.0,>=3.4.0->pt-core-news-lg==3.4.0) (2022.12.7)\n",
            "Requirement already satisfied: urllib3<1.27,>=1.21.1 in /usr/local/lib/python3.8/dist-packages (from requests<3.0.0,>=2.13.0->spacy<3.5.0,>=3.4.0->pt-core-news-lg==3.4.0) (1.24.3)\n",
            "Requirement already satisfied: confection<1.0.0,>=0.0.1 in /usr/local/lib/python3.8/dist-packages (from thinc<8.2.0,>=8.1.0->spacy<3.5.0,>=3.4.0->pt-core-news-lg==3.4.0) (0.0.4)\n",
            "Requirement already satisfied: blis<0.8.0,>=0.7.8 in /usr/local/lib/python3.8/dist-packages (from thinc<8.2.0,>=8.1.0->spacy<3.5.0,>=3.4.0->pt-core-news-lg==3.4.0) (0.7.9)\n",
            "Requirement already satisfied: click<9.0.0,>=7.1.1 in /usr/local/lib/python3.8/dist-packages (from typer<0.8.0,>=0.3.0->spacy<3.5.0,>=3.4.0->pt-core-news-lg==3.4.0) (7.1.2)\n",
            "Requirement already satisfied: MarkupSafe>=0.23 in /usr/local/lib/python3.8/dist-packages (from jinja2->spacy<3.5.0,>=3.4.0->pt-core-news-lg==3.4.0) (2.0.1)\n",
            "Installing collected packages: pt-core-news-lg\n",
            "Successfully installed pt-core-news-lg-3.4.0\n",
            "\u001b[38;5;2m✔ Download and installation successful\u001b[0m\n",
            "You can now load the package via spacy.load('pt_core_news_lg')\n"
          ]
        }
      ]
    },
    {
      "cell_type": "code",
      "source": [
        "spacy.displacy.render(texto, style=\"ent\", jupyter=True)"
      ],
      "metadata": {
        "colab": {
          "base_uri": "https://localhost:8080/",
          "height": 52
        },
        "id": "lHqL0hm9ISiq",
        "outputId": "de8ade3c-be1a-42d0-d8fd-d34abb5cfdc1"
      },
      "execution_count": 3,
      "outputs": [
        {
          "output_type": "display_data",
          "data": {
            "text/plain": [
              "<IPython.core.display.HTML object>"
            ],
            "text/html": [
              "<span class=\"tex2jax_ignore\"><div class=\"entities\" style=\"line-height: 2.5; direction: ltr\">\n",
              "<mark class=\"entity\" style=\"background: #ddd; padding: 0.45em 0.6em; margin: 0 0.25em; line-height: 1; border-radius: 0.35em;\">\n",
              "    Maria\n",
              "    <span style=\"font-size: 0.8em; font-weight: bold; line-height: 1; border-radius: 0.35em; vertical-align: middle; margin-left: 0.5rem\">PER</span>\n",
              "</mark>\n",
              " fez compras no dia 25/12/2022 em \n",
              "<mark class=\"entity\" style=\"background: #ff9561; padding: 0.45em 0.6em; margin: 0 0.25em; line-height: 1; border-radius: 0.35em;\">\n",
              "    Brasília\n",
              "    <span style=\"font-size: 0.8em; font-weight: bold; line-height: 1; border-radius: 0.35em; vertical-align: middle; margin-left: 0.5rem\">LOC</span>\n",
              "</mark>\n",
              ".</div></span>"
            ]
          },
          "metadata": {}
        }
      ]
    },
    {
      "cell_type": "markdown",
      "source": [
        "# Desenvolvimento"
      ],
      "metadata": {
        "id": "PCzOCxgSiBNj"
      }
    },
    {
      "cell_type": "markdown",
      "source": [
        "Criando o arquivo personalizado de configuração no site do Spacy: https://spacy.io/usage/training#quickstart"
      ],
      "metadata": {
        "id": "VYjqOsBhw41a"
      }
    },
    {
      "cell_type": "markdown",
      "source": [
        "![certo.png](data:image/png;base64,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)"
      ],
      "metadata": {
        "id": "Kx4KqEZpbbg4"
      }
    },
    {
      "cell_type": "markdown",
      "source": [
        "# Preparando as labels\n",
        "\n",
        "\n",
        "\n"
      ],
      "metadata": {
        "id": "GqBV1_U2KgFm"
      }
    },
    {
      "cell_type": "markdown",
      "source": [
        "**Custom Train NER Pipeline** <br>\n",
        "Criando novas anotações específicas http://agateteam.org/spacynerannotate/"
      ],
      "metadata": {
        "id": "VOvmlc5NkBL5"
      }
    },
    {
      "cell_type": "code",
      "source": [
        "train = [\n",
        "          (\"COMURG, denominado pregoeiro, mediante a inserção e monitoramento de dados gerados ou transferidos para o aplicativo\",{\"entities\":[(0,6,\"Organização\")]}),\n",
        "          (\"contrato por demanda pelo Sistema de Registro de Preos conforme \",{\"entities\":[]}),\n",
        "          (\"servio de montagem, de mesas, armrios e mobilirios em geral, mediante \",{\"entities\":[(0,18,\"Objeto\")]}),\n",
        "          (\"contratao de empresa para fornecimento, incluindo \",{\"entities\":[(0,38,\"Objeto\")]}),\n",
        "          (\"Permanente de Licitao, doravante denominada CPL\",{\"entities\":[(13,21,\"Fundamentos\")]}),\n",
        "          (\"A Companhia de Urbanizao de Goinia COMURG, por intermdio da Comisso \",{\"entities\":[(1,42,\"Organização\")]}),\n",
        "          (\"MENOR PREÇO POR ITEM\",{\"entities\":[(0,19,\"Tipo\")]}),\n",
        "          (\"da Secretaria Municipal de Sade, conforme condies e \",{\"entities\":[(3,31,\"Organização\")]}),\n",
        "          (\"Aquisioção de Bolsa de Lona, para atender s necessidades \",{\"entities\":[(11,24,\"Objeto\")]}),\n",
        "          (\"Braslia/DF\",{\"entities\":[(0,10,\"Local\")]}),\n",
        "          (\"13 de fevereiro de 2023, s 09h00min \",{\"entities\":[(0,15,\"data\"),(19,23,\"Data\")]}),\n",
        "          (\"undefined\",{\"entities\":[]}),\n",
        "          (\"CNPJ sob nº 75.990.524/0001-76. CONTRATADO, ADMAR FARIA DA FONSECA com sede em Brasília\",{\"entities\":[(12,31,\"CNPJ\"),(45,68,\"Contratante\"),(81,89,\"Local\")]}),\n",
        "          (\"2.968/2008\",{\"entities\":[(0,10,\"Lei\")]}),\n",
        "          (\"Lei Complementar n 123/2006, Decreto Municipal \",{\"entities\":[(19,27,\"Lei\")]}),\n",
        "          (\"(Regido pela Lei 10.520/2002, Decreto Federal 10.024/2019, \",{\"entities\":[(17,28,\"Lei\"),(46,57,\"Lei\")]}),\n",
        "          (\"PREGÃO ELETRÔNICO N 006/2023 SAÚDE \",{\"entities\":[(0,15,\"Fundamentos\"),(18,26,\"Código\")]}),\n",
        "          (\"Contrato nº 292021: Este contrato foi firmado entre Aparecida da Silva Dias como contratante e EURO SERVICE LTDA como contratado, na data de 11/01/2022. \",{\"entities\":[(11,18,\"NUM_CONTRATO\"),(50,69,\"Contratante\"),(89,107,\"Contratado\"),(135,146,\"Data\")]}),\n",
        "          (\"Carolina Silva solicita contrato por demanda pelo Sistema de Registro de Preos conforme \",{\"entities\":[(0,15,\"Contratante\")]}),\n",
        "          (\"servio de montagem, de mesas, armrios e mobilirios em geral, mediante \",{\"entities\":[(0,37,\"Contratado\")]}),\n",
        "          (\"KRYPTUS SEGURANCA DA INFORMACAO S.A. contrato de empresa para fornecimento, incluindo \",{\"entities\":[(0,38,\"Objeto\")]}),\n",
        "          (\"Permanente de Licitao, doravante denominada CPL\",{\"entities\":[(13,21,\"Fundamentos\")]}),\n",
        "          (\"A Companhia de Urbanizao de Goinia COMURG, por intermdio da Comisso \",{\"entities\":[(1,42,\"Organização\")]}),\n",
        "          (\"Contrado firmado em R$ 3.5000,00 para reforma de apartamento\",{\"entities\":[(20,33,\"Valor Contrato\")]}),\n",
        "          (\"da Secretaria Municipal de Saude, conforme condies e \",{\"entities\":[(3,32,\"Organização\")]}),\n",
        "          (\"Aquisioção de Bolsa de Lona, para atender s necessidades \",{\"entities\":[(11,24,\"Objeto\")]}),\n",
        "          (\"Este contrato, feito em 01/04/2022, é entre LUANA ALMEIDA e KRYPTUS SEGURANÇA DA INFORMAÇÃO S.A.\",{\"entities\":[(24,35,\"Data\"),(44,57,\"Contratante\"),(60,97,\"Contratada\")]}),\n",
        "          (\"Braslia/DF\",{\"entities\":[(0,10,\"Local\")]}),\n",
        "          (\"13 de fevereiro de 2023, s 09h00min \",{\"entities\":[(0,15,\"Data\"),(19,23,\"Data\")]}),\n",
        "          (\"undefined\",{\"entities\":[]}),\n",
        "          (\"2.968/2008\",{\"entities\":[(0,10,\"Lei\")]}),\n",
        "          (\"Lei Complementar n 123/2006, Decreto Municipal \",{\"entities\":[(19,27,\"Lei\")]}),\n",
        "          (\"(Regido pela Lei 10.520/2002, Decreto Federal 10.024/2019, \",{\"entities\":[(17,28,\"Lei\"),(46,57,\"Lei\")]}),\n",
        "          (\"PREGÃO ELETRÔNICO N 006/2023 SAÚDE \",{\"entities\":[(0,15,\"Fundamentos\"),(18,26,\"Código\")]}),\n",
        "          (\"Valor do serviço firmado em R$ 10.5000,00 para execução de projeto estrutural\",{\"entities\":[(28,43,\"Valor Contrato\")]}),\n",
        "          (\"Ana Vaz solicita serviço de Atlanta Shows no dia 25/11/2022 \",{\"entities\":[(0,8,\"Contratante\"),(28,42,\"Contratada\"),(49,60,\"Data\")]}),\n",
        "          (\"O valor total do contrato é de R$300.000,00 e a modalidade utilizada foi Pregão\",{\"entities\":[(31,44,\"Valor Contrato\"),(74,81,\"Fundamentos\")]}),\n",
        "          (\"O contrato foi realizado na cidade de Goiânia, Goiás.\",{\"entities\":[(38,46,\"Local\"),(48,54,\"Local\")]}),\n",
        "          (\"Este contrato, feito em 25/08/2021, é entre VAGNER ARAUJO SOUZA e KRYPTUS SEGURANÇA DA INFORMAÇÃO S.A.\",{\"entities\":[(24,35,\"Data\"),(44,64,\"Contratante\"),(67,104,\"Contratada\")]}),\n",
        "          (\"CONTRATANTE, FUNDACAO FACEV  com sede em Brasília, DF  à Rua 5 Quadra 8 Lote 23, nº 1501, inscrita no CNPJ sob nº 75.990.524/0001-76.\",{\"entities\":[(13,28,\"Contratante\"),(41,49,\"Local\"),(51,53,\"Local\"),(112,131,\"CNPJ\")]}),\n",
        "          (\"75.990.524/0001-76\",{\"entities\":[(0,21,\"CNPJ\")]}),\n",
        "        ]"
      ],
      "metadata": {
        "id": "j1rQ4o3r07Rk"
      },
      "execution_count": 4,
      "outputs": []
    },
    {
      "cell_type": "markdown",
      "source": [
        "# Iniciando o treinamento de novas entidades"
      ],
      "metadata": {
        "id": "xbuyp5c3LVfe"
      }
    },
    {
      "cell_type": "code",
      "source": [
        "import pandas as pd\n",
        "import os\n",
        "from tqdm import tqdm\n",
        "from spacy.tokens import DocBin\n",
        "\n",
        "db = DocBin() # cria um DocBin object\n",
        "\n",
        "for text, annot in tqdm(train): # Os dados estão no formato original\n",
        "    doc = nlp.make_doc(text) # Cria um doc object direto do texto\n",
        "    ents = []\n",
        "    for start, end, label in annot[\"entities\"]: \n",
        "        span = doc.char_span(start, end, label=label, alignment_mode=\"contract\")\n",
        "        if span is None:\n",
        "            print(\"Skipping entity\")\n",
        "        else:\n",
        "            ents.append(span)\n",
        "    doc.ents = ents # coloca uma label com as entidades\n",
        "    db.add(doc)\n",
        "\n",
        "db.to_disk(\"./train.spacy\") # Cria o arquivo de treino .spacy"
      ],
      "metadata": {
        "colab": {
          "base_uri": "https://localhost:8080/"
        },
        "id": "b5Nr_BGx07UF",
        "outputId": "3d335bda-43c1-4805-a76d-5d54806f8017"
      },
      "execution_count": 5,
      "outputs": [
        {
          "output_type": "stream",
          "name": "stderr",
          "text": [
            "100%|██████████| 41/41 [00:00<00:00, 1782.05it/s]"
          ]
        },
        {
          "output_type": "stream",
          "name": "stdout",
          "text": [
            "Skipping entity\n",
            "Skipping entity\n",
            "Skipping entity\n",
            "Skipping entity\n",
            "Skipping entity\n",
            "Skipping entity\n"
          ]
        },
        {
          "output_type": "stream",
          "name": "stderr",
          "text": [
            "\n"
          ]
        }
      ]
    },
    {
      "cell_type": "code",
      "source": [
        "!python -m spacy init fill-config base_config.cfg config.cfg"
      ],
      "metadata": {
        "colab": {
          "base_uri": "https://localhost:8080/"
        },
        "id": "d5yfdGAp07Wd",
        "outputId": "6f76fad0-e5cf-4da8-ac70-0034b7898b82"
      },
      "execution_count": 7,
      "outputs": [
        {
          "output_type": "stream",
          "name": "stdout",
          "text": [
            "/usr/local/lib/python3.8/dist-packages/torch/cuda/__init__.py:497: UserWarning: Can't initialize NVML\n",
            "  warnings.warn(\"Can't initialize NVML\")\n",
            "2023-02-06 18:19:28.123740: E tensorflow/stream_executor/cuda/cuda_driver.cc:271] failed call to cuInit: CUDA_ERROR_NO_DEVICE: no CUDA-capable device is detected\n",
            "\u001b[38;5;2m✔ Auto-filled config with all values\u001b[0m\n",
            "\u001b[38;5;2m✔ Saved config\u001b[0m\n",
            "config.cfg\n",
            "You can now add your data and train your pipeline:\n",
            "python -m spacy train config.cfg --paths.train ./train.spacy --paths.dev ./dev.spacy\n"
          ]
        }
      ]
    },
    {
      "cell_type": "code",
      "source": [
        "!python -m spacy train config.cfg --output ./output --paths.train ./train.spacy --paths.dev ./train.spacy"
      ],
      "metadata": {
        "colab": {
          "base_uri": "https://localhost:8080/"
        },
        "id": "JEQxYak707Ye",
        "outputId": "235dfe35-5b35-40de-bcd4-82b42bf70426"
      },
      "execution_count": 8,
      "outputs": [
        {
          "output_type": "stream",
          "name": "stdout",
          "text": [
            "/usr/local/lib/python3.8/dist-packages/torch/cuda/__init__.py:497: UserWarning: Can't initialize NVML\n",
            "  warnings.warn(\"Can't initialize NVML\")\n",
            "2023-02-06 18:19:37.872792: E tensorflow/stream_executor/cuda/cuda_driver.cc:271] failed call to cuInit: CUDA_ERROR_NO_DEVICE: no CUDA-capable device is detected\n",
            "\u001b[38;5;2m✔ Created output directory: output\u001b[0m\n",
            "\u001b[38;5;4mℹ Saving to output directory: output\u001b[0m\n",
            "\u001b[38;5;4mℹ Using CPU\u001b[0m\n",
            "\u001b[1m\n",
            "=========================== Initializing pipeline ===========================\u001b[0m\n",
            "[2023-02-06 18:19:38,827] [INFO] Set up nlp object from config\n",
            "INFO:spacy:Set up nlp object from config\n",
            "[2023-02-06 18:19:38,846] [INFO] Pipeline: ['tok2vec', 'ner']\n",
            "INFO:spacy:Pipeline: ['tok2vec', 'ner']\n",
            "[2023-02-06 18:19:38,854] [INFO] Created vocabulary\n",
            "INFO:spacy:Created vocabulary\n",
            "[2023-02-06 18:19:38,856] [INFO] Finished initializing nlp object\n",
            "INFO:spacy:Finished initializing nlp object\n",
            "[2023-02-06 18:19:38,997] [INFO] Initialized pipeline components: ['tok2vec', 'ner']\n",
            "INFO:spacy:Initialized pipeline components: ['tok2vec', 'ner']\n",
            "\u001b[38;5;2m✔ Initialized pipeline\u001b[0m\n",
            "\u001b[1m\n",
            "============================= Training pipeline =============================\u001b[0m\n",
            "\u001b[38;5;4mℹ Pipeline: ['tok2vec', 'ner']\u001b[0m\n",
            "\u001b[38;5;4mℹ Initial learn rate: 0.001\u001b[0m\n",
            "E    #       LOSS TOK2VEC  LOSS NER  ENTS_F  ENTS_P  ENTS_R  SCORE \n",
            "---  ------  ------------  --------  ------  ------  ------  ------\n",
            "  0       0          0.00     57.00    0.00    0.00    0.00    0.00\n",
            " 49     200        208.61   2629.65   88.68   90.38   87.04    0.89\n",
            "109     400         96.79    687.08   92.59   92.59   92.59    0.93\n",
            "176     600        126.49    730.12   96.30   96.30   96.30    0.96\n",
            "269     800        551.91   1282.75   96.30   96.30   96.30    0.96\n",
            "369    1000        120.66    920.13   96.30   96.30   96.30    0.96\n",
            "469    1200        131.79    885.25   96.30   96.30   96.30    0.96\n",
            "659    1400        312.33   1976.05   96.30   96.30   96.30    0.96\n",
            "859    1600         82.66   1449.51   96.30   96.30   96.30    0.96\n",
            "1059    1800         90.51   1451.00   96.30   96.30   96.30    0.96\n",
            "1259    2000        114.11   1575.65   96.30   96.30   96.30    0.96\n",
            "1459    2200        101.19   1463.00   96.30   96.30   96.30    0.96\n",
            "\u001b[38;5;2m✔ Saved pipeline to output directory\u001b[0m\n",
            "output/model-last\n"
          ]
        }
      ]
    },
    {
      "cell_type": "markdown",
      "source": [
        "# Extraindo textos de contratos em PDF "
      ],
      "metadata": {
        "id": "6CWv23YqTDnY"
      }
    },
    {
      "cell_type": "code",
      "source": [
        "!pip install PyPDF2"
      ],
      "metadata": {
        "colab": {
          "base_uri": "https://localhost:8080/"
        },
        "id": "lbGj6jobTLEl",
        "outputId": "0a3721d6-ff60-47ae-99dc-3b40097fee96"
      },
      "execution_count": 9,
      "outputs": [
        {
          "output_type": "stream",
          "name": "stdout",
          "text": [
            "Looking in indexes: https://pypi.org/simple, https://us-python.pkg.dev/colab-wheels/public/simple/\n",
            "Collecting PyPDF2\n",
            "  Downloading pypdf2-3.0.1-py3-none-any.whl (232 kB)\n",
            "\u001b[2K     \u001b[90m━━━━━━━━━━━━━━━━━━━━━━━━━━━━━━━━━━━━━━━\u001b[0m \u001b[32m232.6/232.6 KB\u001b[0m \u001b[31m5.5 MB/s\u001b[0m eta \u001b[36m0:00:00\u001b[0m\n",
            "\u001b[?25hRequirement already satisfied: typing_extensions>=3.10.0.0 in /usr/local/lib/python3.8/dist-packages (from PyPDF2) (4.4.0)\n",
            "Installing collected packages: PyPDF2\n",
            "Successfully installed PyPDF2-3.0.1\n"
          ]
        }
      ]
    },
    {
      "cell_type": "code",
      "source": [
        "import PyPDF2\n",
        "\n",
        "# abre o arquivo PDF\n",
        "pdf_file = open(\"Contrato assistencia.pdf\", \"rb\")\n",
        "\n",
        "# cria um objeto PDFReader a partir do arquivo\n",
        "pdf_reader = PyPDF2.PdfReader(pdf_file)\n",
        "\n",
        "# inicializa uma variável para armazenar o texto do PDF\n",
        "pdf_text = \"\"\n",
        "\n",
        "# lê cada página do PDF e adiciona o texto à variável\n",
        "for page in pdf_reader.pages:\n",
        "    pdf_text += page.extract_text()\n",
        "\n",
        "pdf_text = pdf_text.replace(\"\\n\", \" \")\n",
        "pdf_text = pdf_text.replace(\"CONTRA TO\", \"CONTRATO\")\n",
        "pdf_text = pdf_text.replace(\"CONTRA TANTE\", \"CONTRATANTE\")\n",
        "pdf_text = pdf_text.replace(\"F ACEV\", \"FACEV\")\n",
        "pdf_text = pdf_text.replace(\"CONTRA TADO\", \"CONTRATADO\")\n",
        "# fecha o arquivo PDF\n",
        "pdf_file.close()\n",
        "\n",
        "# exibe o texto do PDF\n",
        "print(pdf_text)\n"
      ],
      "metadata": {
        "colab": {
          "base_uri": "https://localhost:8080/"
        },
        "id": "8IOyqXRiTI3W",
        "outputId": "80d6971b-792f-4fbd-dc56-37cf9a586131"
      },
      "execution_count": 11,
      "outputs": [
        {
          "output_type": "stream",
          "name": "stdout",
          "text": [
            "CONTRATO DE ASSISTÊNCIA  TÉCNICA CONTRATANTE, FUNDACAO FACEV  com sede em Brasília, DF  à Rua 5 Quadra 8 Lote 23, nº 1501, inscrita no CNPJ sob nº 75.990.524/0001-76. CONTRATADO, ADMAR FARIA DA FONSECA com sede em Brasília, DF, à Rua 508 Quadra 56 Lote 13, nº s/n, inscrita no CPF sob nº 577.843.090-66, neste ato solita o serviço de prestação de assistência técnica para a Televisão LG 24’’ com defeito no cabo de força.\n"
          ]
        }
      ]
    },
    {
      "cell_type": "code",
      "source": [
        "import PyPDF2\n",
        "\n",
        "# abre o arquivo PDF\n",
        "pdf_file = open(\"contrato segurança.pdf\", \"rb\")\n",
        "\n",
        "# cria um objeto PDFReader a partir do arquivo\n",
        "pdf_reader = PyPDF2.PdfReader(pdf_file)\n",
        "\n",
        "# inicializa uma variável para armazenar o texto do PDF\n",
        "pdf_text2 = \"\"\n",
        "\n",
        "# lê cada página do PDF e adiciona o texto à variável\n",
        "for page in pdf_reader.pages:\n",
        "    pdf_text2 += page.extract_text()\n",
        "\n",
        "pdf_text2 = pdf_text2.replace(\"\\n\", \" \")\n",
        "\n",
        "# fecha o arquivo PDF\n",
        "pdf_file.close()\n",
        "\n",
        "# exibe o texto do PDF\n",
        "print(pdf_text2)"
      ],
      "metadata": {
        "colab": {
          "base_uri": "https://localhost:8080/"
        },
        "id": "NguBo7WEVxJb",
        "outputId": "f0fd48c2-7e97-4aa9-d325-ead6d599c2a7"
      },
      "execution_count": 12,
      "outputs": [
        {
          "output_type": "stream",
          "name": "stdout",
          "text": [
            "Contrato de Prestação de Serviços Este contrato, feito em 25/08/2021, é entre VAGNER ARAUJO SOUZA e KRYPTUS SEGURANÇA DA INFORMAÇÃO S.A. Objetivo: O objetivo deste contrato é aumentar a proteção contra malware na rede interna do cliente contratante. Termos e Condições: Colocar antivírus em todos os computadores. Verificar spam em e-mails. Realizar testes de invasão.\n"
          ]
        }
      ]
    },
    {
      "cell_type": "markdown",
      "source": [
        "# Carregando o melhor modelo treinado "
      ],
      "metadata": {
        "id": "AjxzFGiyLha2"
      }
    },
    {
      "cell_type": "code",
      "source": [
        "nlp1 = spacy.load(r\"./output/model-best\") #carrega o melhor modelo do treino"
      ],
      "metadata": {
        "id": "KVyiEcPi07as"
      },
      "execution_count": 13,
      "outputs": []
    },
    {
      "cell_type": "code",
      "source": [
        "doc = nlp1(\"Maria fez compras no dia 25/12/2022 em Brasília.\") # Faz a leitura de amostras de texto retiradas do PDF\n",
        "\n",
        "doc.ents"
      ],
      "metadata": {
        "colab": {
          "base_uri": "https://localhost:8080/"
        },
        "id": "nSJlceJ507cl",
        "outputId": "87887bd1-0d66-4229-fd39-b3f898217e9e"
      },
      "execution_count": 14,
      "outputs": [
        {
          "output_type": "execute_result",
          "data": {
            "text/plain": [
              "(25/12/2022,)"
            ]
          },
          "metadata": {},
          "execution_count": 14
        }
      ]
    },
    {
      "cell_type": "code",
      "source": [
        "# Configurando e destacando por cores as anotações personalizadas\n",
        "colors = {'Organização': \"#85C1E9\", 'Lei': \"#ffff00\",'Data':'#6959CD','Valor Contrato':'#00FA9A','Contratada':'#BDB76B','Contratante':'#DAA520','Local':'#BC8F8F'}\n",
        "options = {\"ents\": ['Organização', 'Lei','Data','Valor Contrato','Contratada','Contratante','Local'], \"colors\": colors}"
      ],
      "metadata": {
        "id": "mZ0qozok07e0"
      },
      "execution_count": 15,
      "outputs": []
    },
    {
      "cell_type": "code",
      "source": [
        " # Exibi as anotações nas cores configuradas no passo anterior\n",
        "spacy.displacy.render(doc, style=\"ent\", jupyter=True, options=options)"
      ],
      "metadata": {
        "colab": {
          "base_uri": "https://localhost:8080/",
          "height": 52
        },
        "id": "HJQpZwlk-Ki0",
        "outputId": "a340ea7e-d461-4da1-f085-762fea48d4e9"
      },
      "execution_count": 16,
      "outputs": [
        {
          "output_type": "display_data",
          "data": {
            "text/plain": [
              "<IPython.core.display.HTML object>"
            ],
            "text/html": [
              "<span class=\"tex2jax_ignore\"><div class=\"entities\" style=\"line-height: 2.5; direction: ltr\">Maria fez compras no dia \n",
              "<mark class=\"entity\" style=\"background: #6959CD; padding: 0.45em 0.6em; margin: 0 0.25em; line-height: 1; border-radius: 0.35em;\">\n",
              "    25/12/2022\n",
              "    <span style=\"font-size: 0.8em; font-weight: bold; line-height: 1; border-radius: 0.35em; vertical-align: middle; margin-left: 0.5rem\">Data</span>\n",
              "</mark>\n",
              " em Brasília.</div></span>"
            ]
          },
          "metadata": {}
        }
      ]
    },
    {
      "cell_type": "markdown",
      "source": [
        "<h1> Entrada de texto de forma manual para exibição das entidades </h1>"
      ],
      "metadata": {
        "id": "sUTByyFLzhyx"
      }
    },
    {
      "cell_type": "code",
      "source": [
        "doc = nlp1(\"CONTRATANTE, FUNDACAO FACEV  com sede em Brasília, DF  à Rua 5 Quadra 8 Lote 23, nº 1501, inscrita no CNPJ sob nº 75.990.524/0001-76.\") "
      ],
      "metadata": {
        "id": "UzU4elWWAsRb"
      },
      "execution_count": 17,
      "outputs": []
    },
    {
      "cell_type": "code",
      "source": [
        "spacy.displacy.render(doc, style=\"ent\", jupyter=True, options=options)"
      ],
      "metadata": {
        "colab": {
          "base_uri": "https://localhost:8080/",
          "height": 87
        },
        "id": "-WPrNQLpfF4f",
        "outputId": "199ca576-a5f6-4862-8416-1431bac6c841"
      },
      "execution_count": 18,
      "outputs": [
        {
          "output_type": "display_data",
          "data": {
            "text/plain": [
              "<IPython.core.display.HTML object>"
            ],
            "text/html": [
              "<span class=\"tex2jax_ignore\"><div class=\"entities\" style=\"line-height: 2.5; direction: ltr\">CONTRATANTE, \n",
              "<mark class=\"entity\" style=\"background: #DAA520; padding: 0.45em 0.6em; margin: 0 0.25em; line-height: 1; border-radius: 0.35em;\">\n",
              "    FUNDACAO FACEV\n",
              "    <span style=\"font-size: 0.8em; font-weight: bold; line-height: 1; border-radius: 0.35em; vertical-align: middle; margin-left: 0.5rem\">Contratante</span>\n",
              "</mark>\n",
              "  com sede em \n",
              "<mark class=\"entity\" style=\"background: #BC8F8F; padding: 0.45em 0.6em; margin: 0 0.25em; line-height: 1; border-radius: 0.35em;\">\n",
              "    Brasília\n",
              "    <span style=\"font-size: 0.8em; font-weight: bold; line-height: 1; border-radius: 0.35em; vertical-align: middle; margin-left: 0.5rem\">Local</span>\n",
              "</mark>\n",
              ", \n",
              "<mark class=\"entity\" style=\"background: #BC8F8F; padding: 0.45em 0.6em; margin: 0 0.25em; line-height: 1; border-radius: 0.35em;\">\n",
              "    DF\n",
              "    <span style=\"font-size: 0.8em; font-weight: bold; line-height: 1; border-radius: 0.35em; vertical-align: middle; margin-left: 0.5rem\">Local</span>\n",
              "</mark>\n",
              "  à Rua 5 Quadra 8 Lote 23, nº 1501, inscrita no CNPJ sob nº 75.990.524/0001-76.</div></span>"
            ]
          },
          "metadata": {}
        }
      ]
    },
    {
      "cell_type": "code",
      "source": [
        "doc2 = nlp1(\"COMURG, denominado pregoeiro, mediante a inserção e monitoramento de dados gerados ou transferidos para o aplicativo da Secretaria Municipal de Saúde, na Lei Complementar n 123/2006, Decreto Municipal na modalidade de PREGÃO ELETRÔNICO 006/2023 no dia 13 de fevereiro de 2023\") # input sample text\n",
        "\n",
        "doc2.ents"
      ],
      "metadata": {
        "id": "VOZ_P5GLfrpo",
        "colab": {
          "base_uri": "https://localhost:8080/"
        },
        "outputId": "575b06b4-da37-4ed3-b851-f30be1340e5b"
      },
      "execution_count": 19,
      "outputs": [
        {
          "output_type": "execute_result",
          "data": {
            "text/plain": [
              "(COMURG,\n",
              " Secretaria Municipal de Saúde,\n",
              " 123/2006,\n",
              " PREGÃO,\n",
              " 13 de fevereiro,\n",
              " 2023)"
            ]
          },
          "metadata": {},
          "execution_count": 19
        }
      ]
    },
    {
      "cell_type": "code",
      "source": [
        "spacy.displacy.render(doc2, style=\"ent\", jupyter=True, options=options)"
      ],
      "metadata": {
        "id": "DkcULjDwfubd",
        "colab": {
          "base_uri": "https://localhost:8080/",
          "height": 157
        },
        "outputId": "e5e843c7-2bdb-403c-fc0d-5d765491ed7b"
      },
      "execution_count": 21,
      "outputs": [
        {
          "output_type": "display_data",
          "data": {
            "text/plain": [
              "<IPython.core.display.HTML object>"
            ],
            "text/html": [
              "<span class=\"tex2jax_ignore\"><div class=\"entities\" style=\"line-height: 2.5; direction: ltr\">\n",
              "<mark class=\"entity\" style=\"background: #85C1E9; padding: 0.45em 0.6em; margin: 0 0.25em; line-height: 1; border-radius: 0.35em;\">\n",
              "    COMURG\n",
              "    <span style=\"font-size: 0.8em; font-weight: bold; line-height: 1; border-radius: 0.35em; vertical-align: middle; margin-left: 0.5rem\">Organização</span>\n",
              "</mark>\n",
              ", denominado pregoeiro, mediante a inserção e monitoramento de dados gerados ou transferidos para o aplicativo da \n",
              "<mark class=\"entity\" style=\"background: #85C1E9; padding: 0.45em 0.6em; margin: 0 0.25em; line-height: 1; border-radius: 0.35em;\">\n",
              "    Secretaria Municipal de Saúde\n",
              "    <span style=\"font-size: 0.8em; font-weight: bold; line-height: 1; border-radius: 0.35em; vertical-align: middle; margin-left: 0.5rem\">Organização</span>\n",
              "</mark>\n",
              ", na Lei Complementar n \n",
              "<mark class=\"entity\" style=\"background: #ffff00; padding: 0.45em 0.6em; margin: 0 0.25em; line-height: 1; border-radius: 0.35em;\">\n",
              "    123/2006\n",
              "    <span style=\"font-size: 0.8em; font-weight: bold; line-height: 1; border-radius: 0.35em; vertical-align: middle; margin-left: 0.5rem\">Lei</span>\n",
              "</mark>\n",
              ", Decreto Municipal na modalidade de PREGÃO ELETRÔNICO 006/2023 no dia \n",
              "<mark class=\"entity\" style=\"background: #6959CD; padding: 0.45em 0.6em; margin: 0 0.25em; line-height: 1; border-radius: 0.35em;\">\n",
              "    13 de fevereiro\n",
              "    <span style=\"font-size: 0.8em; font-weight: bold; line-height: 1; border-radius: 0.35em; vertical-align: middle; margin-left: 0.5rem\">Data</span>\n",
              "</mark>\n",
              " de \n",
              "<mark class=\"entity\" style=\"background: #6959CD; padding: 0.45em 0.6em; margin: 0 0.25em; line-height: 1; border-radius: 0.35em;\">\n",
              "    2023\n",
              "    <span style=\"font-size: 0.8em; font-weight: bold; line-height: 1; border-radius: 0.35em; vertical-align: middle; margin-left: 0.5rem\">Data</span>\n",
              "</mark>\n",
              "</div></span>"
            ]
          },
          "metadata": {}
        }
      ]
    }
  ]
}